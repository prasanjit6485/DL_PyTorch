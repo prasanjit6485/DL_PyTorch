{
 "cells": [
  {
   "cell_type": "markdown",
   "metadata": {},
   "source": [
    "# Classifying Fashion-MNIST\n",
    "\n",
    "Now it's your turn to build and train a neural network. You'll be using the [Fashion-MNIST dataset](https://github.com/zalandoresearch/fashion-mnist), a drop-in replacement for the MNIST dataset. MNIST is actually quite trivial with neural networks where you can easily achieve better than 97% accuracy. Fashion-MNIST is a set of 28x28 greyscale images of clothes. It's more complex than MNIST, so it's a better representation of the actual performance of your network, and a better representation of datasets you'll use in the real world.\n",
    "\n",
    "<img src='assets/fashion-mnist-sprite.png' width=500px>\n",
    "\n",
    "In this notebook, you'll build your own neural network. For the most part, you could just copy and paste the code from Part 3, but you wouldn't be learning. It's important for you to write the code yourself and get it to work. Feel free to consult the previous notebook though as you work through this.\n",
    "\n",
    "First off, let's load the dataset through torchvision."
   ]
  },
  {
   "cell_type": "code",
   "execution_count": 3,
   "metadata": {},
   "outputs": [],
   "source": [
    "import torch\n",
    "from torchvision import datasets, transforms\n",
    "import helper\n",
    "\n",
    "# Define a transform to normalize the data\n",
    "transform = transforms.Compose([transforms.ToTensor(),\n",
    "                                transforms.Normalize((0.5, ), (0.5, ))])\n",
    "# Download and load the training data\n",
    "trainset = datasets.FashionMNIST('F_MNIST_data/', download=True, train=True, transform=transform)\n",
    "trainloader = torch.utils.data.DataLoader(trainset, batch_size=64, shuffle=True)\n",
    "\n",
    "# Download and load the test data\n",
    "testset = datasets.FashionMNIST('F_MNIST_data/', download=True, train=False, transform=transform)\n",
    "testloader = torch.utils.data.DataLoader(testset, batch_size=64, shuffle=True)"
   ]
  },
  {
   "cell_type": "markdown",
   "metadata": {},
   "source": [
    "Here we can see one of the images."
   ]
  },
  {
   "cell_type": "code",
   "execution_count": 4,
   "metadata": {},
   "outputs": [
    {
     "data": {
      "image/png": "[encoded data removed]",
      "text/plain": [
       "<Figure size 640x480 with 1 Axes>"
      ]
     },
     "metadata": {},
     "output_type": "display_data"
    }
   ],
   "source": [
    "image, label = next(iter(trainloader))\n",
    "helper.imshow(image[0,:]);"
   ]
  },
  {
   "cell_type": "markdown",
   "metadata": {},
   "source": [
    "With the data loaded, it's time to import the necessary packages."
   ]
  },
  {
   "cell_type": "code",
   "execution_count": 8,
   "metadata": {},
   "outputs": [],
   "source": [
    "%matplotlib inline\n",
    "%config InlineBackend.figure_format = 'retina'\n",
    "\n",
    "import matplotlib.pyplot as plt\n",
    "import numpy as np\n",
    "import time\n",
    "\n",
    "import torch\n",
    "from torch import nn\n",
    "from torch import optim\n",
    "import torch.nn.functional as F\n",
    "from torchvision import datasets, transforms\n",
    "from collections import OrderedDict\n",
    "\n",
    "import helper"
   ]
  },
  {
   "cell_type": "markdown",
   "metadata": {},
   "source": [
    "## Building the network\n",
    "\n",
    "Here you should define your network. As with MNIST, each image is 28x28 which is a total of 784 pixels, and there are 10 classes. You should include at least one hidden layer. We suggest you use ReLU activations for the layers and to return the logits from the forward pass. It's up to you how many layers you add and the size of those layers."
   ]
  },
  {
   "cell_type": "code",
   "execution_count": 9,
   "metadata": {},
   "outputs": [],
   "source": [
    "# Define network architecture here\n",
    "# Hyperparameters for our network\n",
    "input_size = 784\n",
    "hidden_sizes = [128, 64]\n",
    "output_size = 10\n",
    "\n",
    "# Build a feed-forward network\n",
    "model = nn.Sequential(OrderedDict([\n",
    "                      ('fc1', nn.Linear(input_size, hidden_sizes[0])),\n",
    "                      ('relu1', nn.ReLU()),\n",
    "                      ('fc2', nn.Linear(hidden_sizes[0], hidden_sizes[1])),\n",
    "                      ('relu2', nn.ReLU()),\n",
    "                      ('logits', nn.Linear(hidden_sizes[1], output_size))]))"
   ]
  },
  {
   "cell_type": "markdown",
   "metadata": {},
   "source": [
    "# Train the network\n",
    "\n",
    "Now you should create your network and train it. First you'll want to define [the criterion](http://pytorch.org/docs/master/nn.html#loss-functions) ( something like `nn.CrossEntropyLoss`) and [the optimizer](http://pytorch.org/docs/master/optim.html) (typically `optim.SGD` or `optim.Adam`).\n",
    "\n",
    "Then write the training code. Remember the training pass is a fairly straightforward process:\n",
    "\n",
    "* Make a forward pass through the network to get the logits \n",
    "* Use the logits to calculate the loss\n",
    "* Perform a backward pass through the network with `loss.backward()` to calculate the gradients\n",
    "* Take a step with the optimizer to update the weights\n",
    "\n",
    "By adjusting the hyperparameters (hidden units, learning rate, etc), you should be able to get the training loss below 0.4."
   ]
  },
  {
   "cell_type": "code",
   "execution_count": 10,
   "metadata": {},
   "outputs": [],
   "source": [
    "# Create the network, define the criterion and optimizer\n",
    "criterion = nn.CrossEntropyLoss()\n",
    "optimizer = optim.SGD(model.parameters(), lr=0.003)\n"
   ]
  },
  {
   "cell_type": "code",
   "execution_count": 17,
   "metadata": {},
   "outputs": [
    {
     "name": "stdout",
     "output_type": "stream",
     "text": [
      "Epoch: 1/4...  Loss: 0.6336\n",
      "Epoch: 1/4...  Loss: 0.6531\n",
      "Epoch: 1/4...  Loss: 0.6161\n",
      "Epoch: 1/4...  Loss: 0.6093\n",
      "Epoch: 1/4...  Loss: 0.6141\n",
      "Epoch: 1/4...  Loss: 0.6091\n",
      "Epoch: 1/4...  Loss: 0.6208\n",
      "Epoch: 1/4...  Loss: 0.6180\n",
      "Epoch: 1/4...  Loss: 0.5959\n",
      "Epoch: 1/4...  Loss: 0.5960\n",
      "Epoch: 1/4...  Loss: 0.5874\n",
      "Epoch: 1/4...  Loss: 0.6176\n",
      "Epoch: 1/4...  Loss: 0.6250\n",
      "Epoch: 1/4...  Loss: 0.5875\n",
      "Epoch: 1/4...  Loss: 0.5724\n",
      "Epoch: 1/4...  Loss: 0.6115\n",
      "Epoch: 1/4...  Loss: 0.6161\n",
      "Epoch: 1/4...  Loss: 0.5916\n",
      "Epoch: 1/4...  Loss: 0.5889\n",
      "Epoch: 1/4...  Loss: 0.5848\n",
      "Epoch: 1/4...  Loss: 0.6068\n",
      "Epoch: 1/4...  Loss: 0.5938\n",
      "Epoch: 1/4...  Loss: 0.5818\n",
      "Epoch: 2/4...  Loss: 0.3195\n",
      "Epoch: 2/4...  Loss: 0.5604\n",
      "Epoch: 2/4...  Loss: 0.5759\n",
      "Epoch: 2/4...  Loss: 0.5949\n",
      "Epoch: 2/4...  Loss: 0.5757\n",
      "Epoch: 2/4...  Loss: 0.5876\n",
      "Epoch: 2/4...  Loss: 0.5881\n",
      "Epoch: 2/4...  Loss: 0.5698\n",
      "Epoch: 2/4...  Loss: 0.5828\n",
      "Epoch: 2/4...  Loss: 0.5650\n",
      "Epoch: 2/4...  Loss: 0.5828\n",
      "Epoch: 2/4...  Loss: 0.5756\n",
      "Epoch: 2/4...  Loss: 0.5535\n",
      "Epoch: 2/4...  Loss: 0.5427\n",
      "Epoch: 2/4...  Loss: 0.5722\n",
      "Epoch: 2/4...  Loss: 0.5521\n",
      "Epoch: 2/4...  Loss: 0.5580\n",
      "Epoch: 2/4...  Loss: 0.5324\n",
      "Epoch: 2/4...  Loss: 0.5501\n",
      "Epoch: 2/4...  Loss: 0.5575\n",
      "Epoch: 2/4...  Loss: 0.5457\n",
      "Epoch: 2/4...  Loss: 0.5821\n",
      "Epoch: 2/4...  Loss: 0.5453\n",
      "Epoch: 3/4...  Loss: 0.0440\n",
      "Epoch: 3/4...  Loss: 0.5404\n",
      "Epoch: 3/4...  Loss: 0.5174\n",
      "Epoch: 3/4...  Loss: 0.5392\n",
      "Epoch: 3/4...  Loss: 0.5582\n",
      "Epoch: 3/4...  Loss: 0.5509\n",
      "Epoch: 3/4...  Loss: 0.5643\n",
      "Epoch: 3/4...  Loss: 0.5335\n",
      "Epoch: 3/4...  Loss: 0.5515\n",
      "Epoch: 3/4...  Loss: 0.5304\n",
      "Epoch: 3/4...  Loss: 0.5199\n",
      "Epoch: 3/4...  Loss: 0.5090\n",
      "Epoch: 3/4...  Loss: 0.5319\n",
      "Epoch: 3/4...  Loss: 0.5282\n",
      "Epoch: 3/4...  Loss: 0.5503\n",
      "Epoch: 3/4...  Loss: 0.5325\n",
      "Epoch: 3/4...  Loss: 0.5217\n",
      "Epoch: 3/4...  Loss: 0.5114\n",
      "Epoch: 3/4...  Loss: 0.5292\n",
      "Epoch: 3/4...  Loss: 0.5307\n",
      "Epoch: 3/4...  Loss: 0.5451\n",
      "Epoch: 3/4...  Loss: 0.5300\n",
      "Epoch: 3/4...  Loss: 0.5475\n",
      "Epoch: 3/4...  Loss: 0.5248\n",
      "Epoch: 4/4...  Loss: 0.3766\n",
      "Epoch: 4/4...  Loss: 0.5205\n",
      "Epoch: 4/4...  Loss: 0.5290\n",
      "Epoch: 4/4...  Loss: 0.4952\n",
      "Epoch: 4/4...  Loss: 0.5065\n",
      "Epoch: 4/4...  Loss: 0.5128\n",
      "Epoch: 4/4...  Loss: 0.5244\n",
      "Epoch: 4/4...  Loss: 0.4947\n",
      "Epoch: 4/4...  Loss: 0.5293\n",
      "Epoch: 4/4...  Loss: 0.5096\n",
      "Epoch: 4/4...  Loss: 0.5158\n",
      "Epoch: 4/4...  Loss: 0.5033\n",
      "Epoch: 4/4...  Loss: 0.5020\n",
      "Epoch: 4/4...  Loss: 0.5211\n",
      "Epoch: 4/4...  Loss: 0.5190\n",
      "Epoch: 4/4...  Loss: 0.5250\n",
      "Epoch: 4/4...  Loss: 0.5148\n",
      "Epoch: 4/4...  Loss: 0.5049\n",
      "Epoch: 4/4...  Loss: 0.4785\n",
      "Epoch: 4/4...  Loss: 0.4853\n",
      "Epoch: 4/4...  Loss: 0.4924\n",
      "Epoch: 4/4...  Loss: 0.5342\n",
      "Epoch: 4/4...  Loss: 0.4958\n"
     ]
    }
   ],
   "source": [
    "# Train the network here\n",
    "epochs = 4\n",
    "print_every = 40\n",
    "steps = 0\n",
    "for e in range(epochs):\n",
    "    running_loss = 0\n",
    "    for images, labels in iter(trainloader):\n",
    "        steps += 1\n",
    "        # Flatten MNIST images into a 784 long vector\n",
    "        images.resize_(images.size()[0], 784)\n",
    "        \n",
    "        optimizer.zero_grad()\n",
    "        \n",
    "        # Forward and backward passes\n",
    "        output = model.forward(images)\n",
    "        loss = criterion(output, labels)\n",
    "        loss.backward()\n",
    "        optimizer.step()\n",
    "        \n",
    "        running_loss += loss.item()\n",
    "        \n",
    "        if steps % print_every == 0:\n",
    "            print(\"Epoch: {}/{}... \".format(e+1, epochs),\n",
    "                  \"Loss: {:.4f}\".format(running_loss/print_every))\n",
    "            \n",
    "            running_loss = 0\n"
   ]
  },
  {
   "cell_type": "code",
   "execution_count": 23,
   "metadata": {},
   "outputs": [
    {
     "data": {
      "image/png": "[encoded data removed]",
      "text/plain": [
       "<Figure size 600x900 with 2 Axes>"
      ]
     },
     "metadata": {
      "image/png": {
       "height": 301,
       "width": 589
      }
     },
     "output_type": "display_data"
    }
   ],
   "source": [
    "# Test out your network!\n",
    "\n",
    "dataiter = iter(testloader)\n",
    "images, labels = next(dataiter)\n",
    "img = images[0]\n",
    "# Convert 2D image to 1D vector\n",
    "img = img.resize_(1, 784)\n",
    "\n",
    "# Turn off gradients to speed up this part\n",
    "with torch.no_grad():\n",
    "    logits = model.forward(img)\n",
    "\n",
    "# Calculate the class probabilities (softmax) for img\n",
    "ps = F.softmax(logits, dim=1)\n",
    "\n",
    "# Plot the image and probabilities\n",
    "helper.view_classify(img.resize_(1, 28, 28), ps, version='Fashion')"
   ]
  },
  {
   "cell_type": "markdown",
   "metadata": {},
   "source": [
    "Now that your network is trained, you'll want to save it to disk so you can load it later instead of training it again. Obviously, it's impractical to train a network every time you need one. In practice, you'll train it once, save the model, then reload it for further training or making predictions. In the next part, I'll show you how to save and load trained models."
   ]
  },
  {
   "cell_type": "code",
   "execution_count": null,
   "metadata": {},
   "outputs": [],
   "source": []
  }
 ],
 "metadata": {
  "kernelspec": {
   "display_name": "Python 3 (ipykernel)",
   "language": "python",
   "name": "python3"
  },
  "language_info": {
   "codemirror_mode": {
    "name": "ipython",
    "version": 3
   },
   "file_extension": ".py",
   "mimetype": "text/x-python",
   "name": "python",
   "nbconvert_exporter": "python",
   "pygments_lexer": "ipython3",
   "version": "3.10.9"
  }
 },
 "nbformat": 4,
 "nbformat_minor": 2
}
